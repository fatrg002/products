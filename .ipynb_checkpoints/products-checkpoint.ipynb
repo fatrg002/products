{
 "cells": [
  {
   "cell_type": "code",
   "execution_count": 6,
   "metadata": {},
   "outputs": [
    {
     "name": "stdout",
     "output_type": "stream",
     "text": [
      "請輸入商品名稱: 汽水\n",
      "請輸入商品價格: 10\n",
      "請輸入商品名稱: 紅茶\n",
      "請輸入商品價格: 20\n",
      "請輸入商品名稱: q\n",
      " [['汽水', '10'], ['紅茶', '20']]\n",
      "汽水 的價格是: 10\n",
      "紅茶 的價格是: 20\n"
     ]
    }
   ],
   "source": [
    "\n",
    "products=[]\n",
    "while True:\n",
    "    name = input('請輸入商品名稱: ')\n",
    "    if name =='q':\n",
    "        break\n",
    "    price = input('請輸入商品價格: ')\n",
    "    \n",
    "    p = []\n",
    "    p.append(name)\n",
    "    p.append(price)\n",
    "    products.append(p)\n",
    "print(\"\",products)\n",
    "\n",
    "for p in products:\n",
    "    print(p[0],'的價格是:',p[1])\n",
    "\n",
    "#創建csv檔,cvs檔通常用逗點分隔,在寫入時不能同時開啟csv檔    \n",
    "with open('products.csv','w') as f:\n",
    "    for p in products:\n",
    "        f.write(p[0] + ',' + p[1]+'\\n')"
   ]
  },
  {
   "cell_type": "code",
   "execution_count": null,
   "metadata": {},
   "outputs": [],
   "source": []
  }
 ],
 "metadata": {
  "kernelspec": {
   "display_name": "Python 3",
   "language": "python",
   "name": "python3"
  },
  "language_info": {
   "codemirror_mode": {
    "name": "ipython",
    "version": 3
   },
   "file_extension": ".py",
   "mimetype": "text/x-python",
   "name": "python",
   "nbconvert_exporter": "python",
   "pygments_lexer": "ipython3",
   "version": "3.7.3"
  }
 },
 "nbformat": 4,
 "nbformat_minor": 2
}
