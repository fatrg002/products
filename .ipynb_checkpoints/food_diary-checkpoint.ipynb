{
 "cells": [
  {
   "cell_type": "code",
   "execution_count": 4,
   "metadata": {},
   "outputs": [
    {
     "name": "stdout",
     "output_type": "stream",
     "text": [
      "有檔案喔\n",
      "[['日期', '早餐', '午餐', '晚餐'], ['20190810', '鐵板麵加蛋', '牛奶麥片', '牛奶麥片']]\n",
      "今天日期:20190810\n",
      "請輸入早餐吃了什麼: 鐵板麵加蛋\n",
      "請輸入午餐吃了什麼: 牛奶麥片\n",
      "請輸入晚餐吃了什麼:牛奶麥片\n",
      "今天日期:q\n",
      " [['日期', '早餐', '午餐', '晚餐'], ['20190810', '鐵板麵加蛋', '牛奶麥片', '牛奶麥片'], ['20190810', '鐵板麵加蛋', '牛奶麥片', '牛奶麥片']]\n",
      "今天日期: 日期 早餐吃了: 早餐 午餐吃了: 午餐 晚餐吃了: 晚餐\n",
      "今天日期: 20190810 早餐吃了: 鐵板麵加蛋 午餐吃了: 牛奶麥片 晚餐吃了: 牛奶麥片\n",
      "今天日期: 20190810 早餐吃了: 鐵板麵加蛋 午餐吃了: 牛奶麥片 晚餐吃了: 牛奶麥片\n"
     ]
    }
   ],
   "source": [
    "import os\n",
    "#讀取檔案\n",
    "def read_file(food_diary):\n",
    "    food=[]\n",
    "    if os.path.isfile('food_diary.txt'):\n",
    "        print('有檔案喔')\n",
    "\n",
    "        with open('food_diary.txt','r',encoding = 'utf-8') as f:\n",
    "            for line in f:\n",
    "                if 'date,breakfast,lunch,dinner' in line:\n",
    "                    continue #\n",
    "                date,breakfast,lunch,dinner= line.strip().split(',')\n",
    "                food.append([date,breakfast,lunch,dinner])\n",
    "        print(food)\n",
    "\n",
    "    else:\n",
    "        print('沒有檔案捏')\n",
    "    return food #回傳\n",
    "\n",
    "\n",
    "\n",
    "\n",
    "\n",
    "#讓使用者輸入\n",
    "def user_input(food):\n",
    "    while True:\n",
    "        date = input('今天日期:')\n",
    "        if date =='q':\n",
    "            break\n",
    "        breakfast = input('請輸入早餐吃了什麼: ')            \n",
    "        lunch = input('請輸入午餐吃了什麼: ')\n",
    "        dinner = input('請輸入晚餐吃了什麼:')\n",
    "        \n",
    "\n",
    "        p = []\n",
    "        p.append(date)\n",
    "        p.append(breakfast)\n",
    "        p.append(lunch)\n",
    "        p.append(dinner)\n",
    "        food.append(p)\n",
    "    print(\"\",food)\n",
    "    return food\n",
    "#印出所有購買紀錄\n",
    "def print_food():\n",
    "    for p in food:\n",
    "        print('今天日期:',p[0] ,'早餐吃了:',p[1],  '午餐吃了:',p[2] ,'晚餐吃了:',p[3])\n",
    "\n",
    "#寫入檔案,創建csv檔,cvs檔通常用逗點分隔,在寫入時不能同時開啟csv檔    \n",
    "def write_file():\n",
    "    with open('food_diary.txt','w',encoding = 'utf-8') as f:\n",
    "        f.write('日期,早餐,午餐,晚餐\\n')\n",
    "        for p in food:\n",
    "            f.write(p[0] + ',' + p[1] + ',' + p[2] + ',' + p[3] +'\\n')\n",
    "\n",
    "food = read_file('food_diary.txt')\n",
    "food = user_input(food)\n",
    "print_food()\n",
    "write_file()\n",
    "\n",
    "    "
   ]
  },
  {
   "cell_type": "code",
   "execution_count": null,
   "metadata": {},
   "outputs": [],
   "source": []
  }
 ],
 "metadata": {
  "kernelspec": {
   "display_name": "Python 3",
   "language": "python",
   "name": "python3"
  }
 },
 "nbformat": 4,
 "nbformat_minor": 2
}
