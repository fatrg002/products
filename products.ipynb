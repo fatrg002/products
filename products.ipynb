{
 "cells": [
  {
   "cell_type": "code",
   "execution_count": 5,
   "metadata": {},
   "outputs": [
    {
     "name": "stdout",
     "output_type": "stream",
     "text": [
      "請輸入商品名稱: 珍奶\n",
      "請輸入商品價格: 60\n",
      "請輸入商品名稱: 紅茶\n",
      "請輸入商品價格: 30\n",
      "請輸入商品名稱: 綠茶\n",
      "請輸入商品價格: 30\n",
      "請輸入商品名稱: q\n",
      " [['珍奶', '60'], ['紅茶', '30'], ['綠茶', '30']]\n"
     ]
    }
   ],
   "source": [
    "products=[]\n",
    "while True:\n",
    "    name = input('請輸入商品名稱: ')\n",
    "    if name =='q':\n",
    "        break\n",
    "    price = input('請輸入商品價格: ')\n",
    "    \n",
    "    p = []\n",
    "    p.append(name)\n",
    "    p.append(price)\n",
    "    products.append(p)\n",
    "print(\"\",products)"
   ]
  },
  {
   "cell_type": "code",
   "execution_count": null,
   "metadata": {},
   "outputs": [],
   "source": []
  }
 ],
 "metadata": {
  "kernelspec": {
   "display_name": "Python 3",
   "language": "python",
   "name": "python3"
  }
 },
 "nbformat": 4,
 "nbformat_minor": 2
}
