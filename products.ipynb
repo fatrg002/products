{
 "cells": [
  {
   "cell_type": "code",
   "execution_count": 5,
   "metadata": {},
   "outputs": [
    {
     "name": "stdout",
     "output_type": "stream",
     "text": [
      "有檔案喔\n",
      "[['拉麵', '200'], ['滷肉飯', '30'], ['涼麵', '35'], ['咖哩飯', '120']]\n",
      "請輸入商品名稱: 香雞排\n",
      "請輸入商品價格: 50\n",
      "請輸入商品名稱: q\n",
      " [['拉麵', '200'], ['滷肉飯', '30'], ['涼麵', '35'], ['咖哩飯', '120'], ['香雞排', 50]]\n",
      "拉麵 的價格是: 200 \n",
      "\n",
      "滷肉飯 的價格是: 30 \n",
      "\n",
      "涼麵 的價格是: 35 \n",
      "\n",
      "咖哩飯 的價格是: 120 \n",
      "\n",
      "香雞排 的價格是: 50 \n",
      "\n"
     ]
    }
   ],
   "source": [
    "import os\n",
    "#讀取檔案\n",
    "def read_file(filename):\n",
    "    products=[]\n",
    "    if os.path.isfile('filename.csv'):\n",
    "        print('有檔案喔')\n",
    "\n",
    "        with open('filename.csv','r',encoding = 'utf-8') as f:\n",
    "            for line in f:\n",
    "                if '商品,價格' in line:\n",
    "                    continue #\n",
    "                name, price= line.strip().split(',')\n",
    "                products.append([name,price])\n",
    "        print(products)\n",
    "\n",
    "    else:\n",
    "        print('沒有檔案捏')\n",
    "    return products #回傳\n",
    "\n",
    "\n",
    "\n",
    "\n",
    "\n",
    "#讓使用者輸入\n",
    "def user_input(products):\n",
    "    while True:\n",
    "        name = input('請輸入商品名稱: ')\n",
    "        if name =='q':\n",
    "            break\n",
    "        price = input('請輸入商品價格: ')\n",
    "        price = int(price)\n",
    "\n",
    "        p = []\n",
    "        p.append(name)\n",
    "        p.append(price)\n",
    "        products.append(p)\n",
    "    print(\"\",products)\n",
    "    return products\n",
    "#印出所有購買紀錄\n",
    "def print_products():\n",
    "    for p in products:\n",
    "        print(p[0],'的價格是:',p[1],'\\n')\n",
    "\n",
    "#寫入檔案,創建csv檔,cvs檔通常用逗點分隔,在寫入時不能同時開啟csv檔    \n",
    "def write_file():\n",
    "    with open('filename.csv','w',encoding = 'utf-8') as f:\n",
    "        f.write('商品,價格\\n')\n",
    "        for p in products:\n",
    "            f.write(p[0] + ',' + str(p[1])+'\\n')\n",
    "\n",
    "products = read_file('products.csv')\n",
    "products = user_input(products)\n",
    "print_products()\n",
    "write_file()\n",
    "\n",
    "    "
   ]
  },
  {
   "cell_type": "code",
   "execution_count": null,
   "metadata": {},
   "outputs": [],
   "source": []
  },
  {
   "cell_type": "code",
   "execution_count": null,
   "metadata": {},
   "outputs": [],
   "source": []
  },
  {
   "cell_type": "code",
   "execution_count": null,
   "metadata": {},
   "outputs": [],
   "source": []
  },
  {
   "cell_type": "code",
   "execution_count": null,
   "metadata": {},
   "outputs": [],
   "source": []
  }
 ],
 "metadata": {
  "kernelspec": {
   "display_name": "Python 3",
   "language": "python",
   "name": "python3"
  },
  "language_info": {
   "codemirror_mode": {
    "name": "ipython",
    "version": 3
   },
   "file_extension": ".py",
   "mimetype": "text/x-python",
   "name": "python",
   "nbconvert_exporter": "python",
   "pygments_lexer": "ipython3",
   "version": "3.7.3"
  }
 },
 "nbformat": 4,
 "nbformat_minor": 2
}
