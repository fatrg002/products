{
 "cells": [
  {
   "cell_type": "code",
   "execution_count": 1,
   "metadata": {},
   "outputs": [
    {
     "name": "stdout",
     "output_type": "stream",
     "text": [
      "[['商品', '價格'], ['香蕉', '50'], ['西瓜', '40']]\n",
      "請輸入商品名稱: 芒果\n",
      "請輸入商品價格: 40\n",
      "請輸入商品名稱: 鳳梨\n",
      "請輸入商品價格: 60\n",
      "請輸入商品名稱: 荔枝\n",
      "請輸入商品價格: 40\n",
      "請輸入商品名稱: 香瓜\n",
      "請輸入商品價格: 30\n",
      "請輸入商品名稱: q\n",
      " [['商品', '價格'], ['香蕉', '50'], ['西瓜', '40'], ['芒果', 40], ['鳳梨', 60], ['荔枝', 40], ['香瓜', 30]]\n",
      "商品 的價格是: 價格 \n",
      "\n",
      "香蕉 的價格是: 50 \n",
      "\n",
      "西瓜 的價格是: 40 \n",
      "\n",
      "芒果 的價格是: 40 \n",
      "\n",
      "鳳梨 的價格是: 60 \n",
      "\n",
      "荔枝 的價格是: 40 \n",
      "\n",
      "香瓜 的價格是: 30 \n",
      "\n"
     ]
    }
   ],
   "source": [
    "#讀取檔案\n",
    "products=[]\n",
    "\n",
    "with open('products.csv','r',encoding = 'utf-8') as f:\n",
    "    for line in f:\n",
    "        if '商品,價格' in line:\n",
    "            continue #\n",
    "        name, price= line.strip().split(',')\n",
    "        products.append([name,price])\n",
    "print(products)\n",
    "\n",
    "#讓使用者輸入\n",
    "while True:\n",
    "    name = input('請輸入商品名稱: ')\n",
    "    if name =='q':\n",
    "        break\n",
    "    price = input('請輸入商品價格: ')\n",
    "    price = int(price)\n",
    "    \n",
    "    p = []\n",
    "    p.append(name)\n",
    "    p.append(price)\n",
    "    products.append(p)\n",
    "print(\"\",products)\n",
    "\n",
    "#印出所有購買紀錄\n",
    "for p in products:\n",
    "    print(p[0],'的價格是:',p[1],'\\n')\n",
    "\n",
    "#寫入檔案,創建csv檔,cvs檔通常用逗點分隔,在寫入時不能同時開啟csv檔    \n",
    "with open('products.csv','w',encoding = 'utf-8') as f:\n",
    "    f.write('商品,價格\\n')\n",
    "    for p in products:\n",
    "        f.write(p[0] + ',' + str(p[1])+'\\n')\n",
    "\n",
    "    "
   ]
  },
  {
   "cell_type": "code",
   "execution_count": null,
   "metadata": {},
   "outputs": [],
   "source": []
  },
  {
   "cell_type": "code",
   "execution_count": null,
   "metadata": {},
   "outputs": [],
   "source": []
  },
  {
   "cell_type": "code",
   "execution_count": null,
   "metadata": {},
   "outputs": [],
   "source": []
  },
  {
   "cell_type": "code",
   "execution_count": null,
   "metadata": {},
   "outputs": [],
   "source": []
  }
 ],
 "metadata": {
  "kernelspec": {
   "display_name": "Python 3",
   "language": "python",
   "name": "python3"
  },
  "language_info": {
   "codemirror_mode": {
    "name": "ipython",
    "version": 3
   },
   "file_extension": ".py",
   "mimetype": "text/x-python",
   "name": "python",
   "nbconvert_exporter": "python",
   "pygments_lexer": "ipython3",
   "version": "3.7.3"
  }
 },
 "nbformat": 4,
 "nbformat_minor": 2
}
