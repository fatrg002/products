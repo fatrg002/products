{
 "cells": [
  {
   "cell_type": "code",
   "execution_count": 2,
   "metadata": {},
   "outputs": [
    {
     "name": "stdout",
     "output_type": "stream",
     "text": [
      "請輸入商品名稱: 拉麵\n",
      "請輸入商品價格: 200\n",
      "請輸入商品名稱: 滷肉飯\n",
      "請輸入商品價格: 40\n",
      "請輸入商品名稱: 滷蛋\n",
      "請輸入商品價格: 10\n",
      "請輸入商品名稱: q\n",
      " [['拉麵', 200], ['滷肉飯', 40], ['滷蛋', 10]]\n",
      "拉麵 的價格是: 200 \n",
      "\n",
      "滷肉飯 的價格是: 40 \n",
      "\n",
      "滷蛋 的價格是: 10 \n",
      "\n"
     ]
    }
   ],
   "source": [
    "\n",
    "products=[]\n",
    "while True:\n",
    "    name = input('請輸入商品名稱: ')\n",
    "    if name =='q':\n",
    "        break\n",
    "    price = input('請輸入商品價格: ')\n",
    "    price = int(price)\n",
    "    \n",
    "    p = []\n",
    "    p.append(name)\n",
    "    p.append(price)\n",
    "    products.append(p)\n",
    "print(\"\",products)\n",
    "\n",
    "for p in products:\n",
    "    print(p[0],'的價格是:',p[1],'\\n')\n",
    "\n",
    "#創建csv檔,cvs檔通常用逗點分隔,在寫入時不能同時開啟csv檔    \n",
    "with open('products.csv','w',encoding = 'utf-8') as f:\n",
    "    f.write('商品,價格\\n')\n",
    "    for p in products:\n",
    "        f.write(p[0] + ',' + str(p[1])+'\\n')\n",
    "\n",
    "    "
   ]
  },
  {
   "cell_type": "code",
   "execution_count": null,
   "metadata": {},
   "outputs": [],
   "source": []
  },
  {
   "cell_type": "code",
   "execution_count": null,
   "metadata": {},
   "outputs": [],
   "source": []
  },
  {
   "cell_type": "code",
   "execution_count": null,
   "metadata": {},
   "outputs": [],
   "source": []
  },
  {
   "cell_type": "code",
   "execution_count": null,
   "metadata": {},
   "outputs": [],
   "source": []
  }
 ],
 "metadata": {
  "kernelspec": {
   "display_name": "Python 3",
   "language": "python",
   "name": "python3"
  }
 },
 "nbformat": 4,
 "nbformat_minor": 2
}
