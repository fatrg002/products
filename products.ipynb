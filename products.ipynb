{
 "cells": [
  {
   "cell_type": "code",
   "execution_count": 1,
   "metadata": {},
   "outputs": [
    {
     "name": "stdout",
     "output_type": "stream",
     "text": [
      "請輸入商品名稱: 拉麵\n",
      "請輸入商品價格: 220\n",
      "請輸入商品名稱: 汽水\n",
      "請輸入商品價格: 60\n",
      "請輸入商品名稱: q\n",
      " [['拉麵', '220'], ['汽水', '60']]\n",
      "拉麵 的價格是: 220\n",
      "汽水 的價格是: 60\n"
     ]
    }
   ],
   "source": [
    "products=[]\n",
    "while True:\n",
    "    name = input('請輸入商品名稱: ')\n",
    "    if name =='q':\n",
    "        break\n",
    "    price = input('請輸入商品價格: ')\n",
    "    \n",
    "    p = []\n",
    "    p.append(name)\n",
    "    p.append(price)\n",
    "    products.append(p)\n",
    "print(\"\",products)\n",
    "\n",
    "for p in products:\n",
    "    print(p[0],'的價格是:',p[1])"
   ]
  },
  {
   "cell_type": "code",
   "execution_count": null,
   "metadata": {},
   "outputs": [],
   "source": [
    "220"
   ]
  }
 ],
 "metadata": {
  "kernelspec": {
   "display_name": "Python 3",
   "language": "python",
   "name": "python3"
  },
  "language_info": {
   "codemirror_mode": {
    "name": "ipython",
    "version": 3
   },
   "file_extension": ".py",
   "mimetype": "text/x-python",
   "name": "python",
   "nbconvert_exporter": "python",
   "pygments_lexer": "ipython3",
   "version": "3.7.3"
  }
 },
 "nbformat": 4,
 "nbformat_minor": 2
}
